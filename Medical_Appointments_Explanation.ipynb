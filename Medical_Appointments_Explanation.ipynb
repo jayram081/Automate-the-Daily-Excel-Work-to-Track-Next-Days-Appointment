{
 "cells": [
  {
   "attachments": {},
   "cell_type": "markdown",
   "id": "d0c345be-3fd7-4eea-bd2d-8cca2717d616",
   "metadata": {},
   "source": [
    "# 📅 `Automate the Daily Excel Work to Track Medical Appointment` :  \n",
    "> My objective here is to **completely Automate the manual Excel Work** to Track the Next Day Medical Appointment and complete it next day in **PPMC (Pre-Policy Medical Check-Up)** so that we can reduce the **20 Minutes of manual work to 1 Minute** on daily basis for 25 Account Managers.\n",
    "\n",
    "\n",
    "## 🔰 `Introduction` :\n",
    ">**PPMC :** In the context of insurance, PPMC stands for Pre-Policy Medical Check-Up. This is a set of medical examinations and tests that a prospective policyholder must undergo before an insurance company approves their policy application. Here's a brief overview:\n",
    "\n",
    ">**What is a Pre-Policy Medical Check-Up (PPMC) ?** <br>\n",
    "A PPMC consists of various medical tests to assess the applicant's health status. These tests help the insurer determine the applicant's medical fitness and identify any pre-existing conditions. The results of these tests can influence the premium rates and coverage terms of the policy.\n",
    "\n",
    ">**Importance of PPMC:** <br>\n",
    ">1. Assessing Health Status: It provides a baseline health assessment for the policyholder.\n",
    ">2. Identifying Pre-Existing Conditions: Helps insurers understand if there are any existing medical conditions that need to be considered.\n",
    ">3. Determining Premiums: The results can affect the premium rates, ensuring they are appropriate for the individual's health status.\n",
    ">4. Smooth Claim Settlement: The medical reports from the PPMC can be crucial during the claim settlement process.\n",
    "\n",
    ">**Who Needs to Undergo PPMC ?** <br>\n",
    "Typically, policyholders above a certain age (often 40 or 45 years) are required to undergo a PPMC. However, this can vary depending on the insurance company and the type of policy.\n",
    "\n",
    "\n",
    "## 📊 `The Source Data` :\n",
    "> Account manageers extract csv file from CRM in evening to prepare the next day appointment. This file have 185 Columns and usually lakhs of rows based on their insurer volumes. They use the following columns to prepare the next day appointment tracker :\n",
    ">- **CorporateName :** Insurer Name\n",
    ">- **PatientName :** Name of Insured who will go under the medicals.\n",
    ">- **ApplicationId :** Insured Application Number\n",
    ">- **ContactNo :** Insured Mobile Number\n",
    ">- **PackageName :** Name of the Medical Tests\n",
    ">- **AppointmentDate :** Medical Tests Date\n",
    ">- **ApptTime :** Medical Tests Time\n",
    ">- **VisitType :** Home Visit or Diagnostic Center Visit\n",
    ">- **ProviderName :** Diagnostic Centre Name\n",
    ">- **ProviderState :** Diagnostic Centre State\n",
    ">- **ProviderCity :** Diagnostic Centre City\n",
    ">- **AppointmentStatus :** Current starus of Appointment\n",
    "\n",
    "\n",
    "## ⭐ `Getting started` :\n",
    ">We will first build the logic and will explain and make the program. And after the we will make a function to repeat this daily task, make it simple for the account manager who is not well verse with python and save the time."
   ]
  },
  {
   "cell_type": "markdown",
   "id": "0e6a10d7-9e22-4697-a91c-28500e9951b1",
   "metadata": {},
   "source": [
    "#### `Import Library` "
   ]
  },
  {
   "cell_type": "code",
   "execution_count": 265,
   "id": "223a5227-fd46-45d2-8f05-a3b259d56f53",
   "metadata": {},
   "outputs": [],
   "source": [
    "import pandas as pd\n",
    "from datetime import datetime, timedelta"
   ]
  },
  {
   "cell_type": "markdown",
   "id": "97819a37-2a69-4c71-9a0d-c544ec327352",
   "metadata": {},
   "source": [
    "#### `Load the source data into our Pandas Data Frame df`"
   ]
  },
  {
   "cell_type": "code",
   "execution_count": 268,
   "id": "78c8399a-08ef-487a-8dc8-cfafeb2cef74",
   "metadata": {},
   "outputs": [],
   "source": [
    "df = pd.read_csv(\"mis.csv\", low_memory=False)"
   ]
  },
  {
   "cell_type": "code",
   "execution_count": 269,
   "id": "d9f46c1f-d428-4306-b62a-b4a9f9b86fec",
   "metadata": {},
   "outputs": [
    {
     "data": {
      "text/plain": [
       "(7111, 185)"
      ]
     },
     "execution_count": 269,
     "metadata": {},
     "output_type": "execute_result"
    }
   ],
   "source": [
    "# Check the shape of data .shape attribute\n",
    "df.shape"
   ]
  },
  {
   "cell_type": "markdown",
   "id": "2bea0f0d-892e-49b2-ad61-73b7f1d83e7f",
   "metadata": {},
   "source": [
    "#### `Load Specific Columns from CSV`"
   ]
  },
  {
   "cell_type": "code",
   "execution_count": 273,
   "id": "81247407-dd23-422f-a94c-ece183419691",
   "metadata": {},
   "outputs": [],
   "source": [
    "columns = [\n",
    "    \"CorporateName\", \"PatientName\", \"ApplicationId\", \"ContactNo\",\n",
    "    \"PackageName\", \"AppointmentDate\", \"ApptTime\", \"VisitType\",\n",
    "    \"ProviderName\", \"ProviderState\", \"ProviderCity\", \"AppointmentStatus\"\n",
    "]\n",
    "\n",
    "# We cold have used df = pd.read_csv(\"mis.csv\", usecols=columns) while imporing. But we wanted to show the original shape of raw data\n",
    "df = df[columns]"
   ]
  },
  {
   "cell_type": "code",
   "execution_count": 275,
   "id": "21f9dc63-9434-479c-87a7-6fb0dca4fa1c",
   "metadata": {},
   "outputs": [
    {
     "data": {
      "text/html": [
       "<div>\n",
       "<style scoped>\n",
       "    .dataframe tbody tr th:only-of-type {\n",
       "        vertical-align: middle;\n",
       "    }\n",
       "\n",
       "    .dataframe tbody tr th {\n",
       "        vertical-align: top;\n",
       "    }\n",
       "\n",
       "    .dataframe thead th {\n",
       "        text-align: right;\n",
       "    }\n",
       "</style>\n",
       "<table border=\"1\" class=\"dataframe\">\n",
       "  <thead>\n",
       "    <tr style=\"text-align: right;\">\n",
       "      <th></th>\n",
       "      <th>CorporateName</th>\n",
       "      <th>PatientName</th>\n",
       "      <th>ApplicationId</th>\n",
       "      <th>ContactNo</th>\n",
       "      <th>PackageName</th>\n",
       "      <th>AppointmentDate</th>\n",
       "      <th>ApptTime</th>\n",
       "      <th>VisitType</th>\n",
       "      <th>ProviderName</th>\n",
       "      <th>ProviderState</th>\n",
       "      <th>ProviderCity</th>\n",
       "      <th>AppointmentStatus</th>\n",
       "    </tr>\n",
       "  </thead>\n",
       "  <tbody>\n",
       "    <tr>\n",
       "      <th>0</th>\n",
       "      <td>TATA AIA</td>\n",
       "      <td>Rohit Makwana</td>\n",
       "      <td>GMDBA10030_1000000030_GL0301</td>\n",
       "      <td>9.620132e+09</td>\n",
       "      <td>ME, BPB-F,RUA, CBC, HBA1c, ECG-Exe, Health Cer...</td>\n",
       "      <td>15/11/2024</td>\n",
       "      <td>09:00</td>\n",
       "      <td>Center Visit</td>\n",
       "      <td>TRADICINE CLINIC-LAB &amp; SCAN</td>\n",
       "      <td>KARNATAKA</td>\n",
       "      <td>Bengaluru</td>\n",
       "      <td>Appointment Attended</td>\n",
       "    </tr>\n",
       "    <tr>\n",
       "      <th>1</th>\n",
       "      <td>TATA AIA</td>\n",
       "      <td>Divya Bhalla</td>\n",
       "      <td>GMDMU11047_1000000017_GL0301</td>\n",
       "      <td>9.591972e+09</td>\n",
       "      <td>ME, BPB-F,RUA, CBC, HBA1c, ECG-Exe,Health Cert...</td>\n",
       "      <td>15/11/2024</td>\n",
       "      <td>09:30</td>\n",
       "      <td>Center Visit</td>\n",
       "      <td>Preccare Diagnostics</td>\n",
       "      <td>KARNATAKA</td>\n",
       "      <td>Bengaluru</td>\n",
       "      <td>Appointment Attended</td>\n",
       "    </tr>\n",
       "    <tr>\n",
       "      <th>2</th>\n",
       "      <td>TATA AIA</td>\n",
       "      <td>Sriteja Kolluri</td>\n",
       "      <td>GMDBA09838_1000000046_GL0301</td>\n",
       "      <td>7.755992e+09</td>\n",
       "      <td>ME, BPB-F,RUA, Health Certificate</td>\n",
       "      <td>15/11/2024</td>\n",
       "      <td>07:00</td>\n",
       "      <td>Home Collection</td>\n",
       "      <td>Medsol Diagnostic Centre</td>\n",
       "      <td>KARNATAKA</td>\n",
       "      <td>Bangalore South</td>\n",
       "      <td>Appointment Attended</td>\n",
       "    </tr>\n",
       "  </tbody>\n",
       "</table>\n",
       "</div>"
      ],
      "text/plain": [
       "  CorporateName      PatientName                 ApplicationId     ContactNo  \\\n",
       "0      TATA AIA    Rohit Makwana  GMDBA10030_1000000030_GL0301  9.620132e+09   \n",
       "1      TATA AIA     Divya Bhalla  GMDMU11047_1000000017_GL0301  9.591972e+09   \n",
       "2      TATA AIA  Sriteja Kolluri  GMDBA09838_1000000046_GL0301  7.755992e+09   \n",
       "\n",
       "                                         PackageName AppointmentDate ApptTime  \\\n",
       "0  ME, BPB-F,RUA, CBC, HBA1c, ECG-Exe, Health Cer...      15/11/2024    09:00   \n",
       "1  ME, BPB-F,RUA, CBC, HBA1c, ECG-Exe,Health Cert...      15/11/2024    09:30   \n",
       "2                  ME, BPB-F,RUA, Health Certificate      15/11/2024    07:00   \n",
       "\n",
       "         VisitType                 ProviderName ProviderState  \\\n",
       "0     Center Visit  TRADICINE CLINIC-LAB & SCAN     KARNATAKA   \n",
       "1     Center Visit         Preccare Diagnostics     KARNATAKA   \n",
       "2  Home Collection     Medsol Diagnostic Centre     KARNATAKA   \n",
       "\n",
       "      ProviderCity     AppointmentStatus  \n",
       "0        Bengaluru  Appointment Attended  \n",
       "1        Bengaluru  Appointment Attended  \n",
       "2  Bangalore South  Appointment Attended  "
      ]
     },
     "execution_count": 275,
     "metadata": {},
     "output_type": "execute_result"
    }
   ],
   "source": [
    "# Show the top 3 columns\n",
    "df.head(3)"
   ]
  },
  {
   "cell_type": "code",
   "execution_count": 277,
   "id": "b3f2c5aa-04f6-46d8-989a-3f4a05402751",
   "metadata": {
    "scrolled": true
   },
   "outputs": [
    {
     "name": "stdout",
     "output_type": "stream",
     "text": [
      "<class 'pandas.core.frame.DataFrame'>\n",
      "RangeIndex: 7111 entries, 0 to 7110\n",
      "Data columns (total 12 columns):\n",
      " #   Column             Non-Null Count  Dtype  \n",
      "---  ------             --------------  -----  \n",
      " 0   CorporateName      7111 non-null   object \n",
      " 1   PatientName        7111 non-null   object \n",
      " 2   ApplicationId      7111 non-null   object \n",
      " 3   ContactNo          6089 non-null   float64\n",
      " 4   PackageName        7109 non-null   object \n",
      " 5   AppointmentDate    5601 non-null   object \n",
      " 6   ApptTime           5601 non-null   object \n",
      " 7   VisitType          5601 non-null   object \n",
      " 8   ProviderName       5601 non-null   object \n",
      " 9   ProviderState      5596 non-null   object \n",
      " 10  ProviderCity       5598 non-null   object \n",
      " 11  AppointmentStatus  7111 non-null   object \n",
      "dtypes: float64(1), object(11)\n",
      "memory usage: 666.8+ KB\n"
     ]
    }
   ],
   "source": [
    "# Check the Data Frame Information\n",
    "df.info()"
   ]
  },
  {
   "cell_type": "markdown",
   "id": "531b39c1-02a9-446d-83d9-67ee1b9bdbac",
   "metadata": {},
   "source": [
    "<br>\n",
    "\n",
    "**AppointmentDate** is in object type and we have to convert it into datetime type to perform datetime operations"
   ]
  },
  {
   "cell_type": "markdown",
   "id": "aa1c4e67-56c5-4dee-aab9-8998d23ab417",
   "metadata": {},
   "source": [
    "#### `Convert AppointmentDate to datetime`"
   ]
  },
  {
   "cell_type": "code",
   "execution_count": 281,
   "id": "eb0b2965-e941-438e-b710-3550b60f3969",
   "metadata": {},
   "outputs": [],
   "source": [
    "df[\"AppointmentDate\"] = pd.to_datetime(df[\"AppointmentDate\"], dayfirst=True, errors='coerce')"
   ]
  },
  {
   "cell_type": "code",
   "execution_count": 283,
   "id": "c2128c70-90cf-43c8-b066-b5019b9fd582",
   "metadata": {},
   "outputs": [
    {
     "data": {
      "text/plain": [
       "dtype('<M8[ns]')"
      ]
     },
     "execution_count": 283,
     "metadata": {},
     "output_type": "execute_result"
    }
   ],
   "source": [
    "# Check AppointmentDate Data Type\n",
    "df[\"AppointmentDate\"].dtype"
   ]
  },
  {
   "cell_type": "code",
   "execution_count": 285,
   "id": "a3d66f68-36db-4683-9052-625ce4bbd064",
   "metadata": {},
   "outputs": [
    {
     "name": "stdout",
     "output_type": "stream",
     "text": [
      "<class 'pandas.core.frame.DataFrame'>\n",
      "RangeIndex: 7111 entries, 0 to 7110\n",
      "Data columns (total 12 columns):\n",
      " #   Column             Non-Null Count  Dtype         \n",
      "---  ------             --------------  -----         \n",
      " 0   CorporateName      7111 non-null   object        \n",
      " 1   PatientName        7111 non-null   object        \n",
      " 2   ApplicationId      7111 non-null   object        \n",
      " 3   ContactNo          6089 non-null   float64       \n",
      " 4   PackageName        7109 non-null   object        \n",
      " 5   AppointmentDate    5601 non-null   datetime64[ns]\n",
      " 6   ApptTime           5601 non-null   object        \n",
      " 7   VisitType          5601 non-null   object        \n",
      " 8   ProviderName       5601 non-null   object        \n",
      " 9   ProviderState      5596 non-null   object        \n",
      " 10  ProviderCity       5598 non-null   object        \n",
      " 11  AppointmentStatus  7111 non-null   object        \n",
      "dtypes: datetime64[ns](1), float64(1), object(10)\n",
      "memory usage: 666.8+ KB\n"
     ]
    }
   ],
   "source": [
    "df.info()"
   ]
  },
  {
   "cell_type": "code",
   "execution_count": 287,
   "id": "46b176ce-569e-45a9-8b20-4007346cacec",
   "metadata": {},
   "outputs": [
    {
     "data": {
      "text/html": [
       "<div>\n",
       "<style scoped>\n",
       "    .dataframe tbody tr th:only-of-type {\n",
       "        vertical-align: middle;\n",
       "    }\n",
       "\n",
       "    .dataframe tbody tr th {\n",
       "        vertical-align: top;\n",
       "    }\n",
       "\n",
       "    .dataframe thead th {\n",
       "        text-align: right;\n",
       "    }\n",
       "</style>\n",
       "<table border=\"1\" class=\"dataframe\">\n",
       "  <thead>\n",
       "    <tr style=\"text-align: right;\">\n",
       "      <th></th>\n",
       "      <th>CorporateName</th>\n",
       "      <th>PatientName</th>\n",
       "      <th>ApplicationId</th>\n",
       "      <th>ContactNo</th>\n",
       "      <th>PackageName</th>\n",
       "      <th>AppointmentDate</th>\n",
       "      <th>ApptTime</th>\n",
       "      <th>VisitType</th>\n",
       "      <th>ProviderName</th>\n",
       "      <th>ProviderState</th>\n",
       "      <th>ProviderCity</th>\n",
       "      <th>AppointmentStatus</th>\n",
       "    </tr>\n",
       "  </thead>\n",
       "  <tbody>\n",
       "    <tr>\n",
       "      <th>0</th>\n",
       "      <td>TATA AIA</td>\n",
       "      <td>Rohit Makwana</td>\n",
       "      <td>GMDBA10030_1000000030_GL0301</td>\n",
       "      <td>9.620132e+09</td>\n",
       "      <td>ME, BPB-F,RUA, CBC, HBA1c, ECG-Exe, Health Cer...</td>\n",
       "      <td>2024-11-15</td>\n",
       "      <td>09:00</td>\n",
       "      <td>Center Visit</td>\n",
       "      <td>TRADICINE CLINIC-LAB &amp; SCAN</td>\n",
       "      <td>KARNATAKA</td>\n",
       "      <td>Bengaluru</td>\n",
       "      <td>Appointment Attended</td>\n",
       "    </tr>\n",
       "    <tr>\n",
       "      <th>1</th>\n",
       "      <td>TATA AIA</td>\n",
       "      <td>Divya Bhalla</td>\n",
       "      <td>GMDMU11047_1000000017_GL0301</td>\n",
       "      <td>9.591972e+09</td>\n",
       "      <td>ME, BPB-F,RUA, CBC, HBA1c, ECG-Exe,Health Cert...</td>\n",
       "      <td>2024-11-15</td>\n",
       "      <td>09:30</td>\n",
       "      <td>Center Visit</td>\n",
       "      <td>Preccare Diagnostics</td>\n",
       "      <td>KARNATAKA</td>\n",
       "      <td>Bengaluru</td>\n",
       "      <td>Appointment Attended</td>\n",
       "    </tr>\n",
       "    <tr>\n",
       "      <th>2</th>\n",
       "      <td>TATA AIA</td>\n",
       "      <td>Sriteja Kolluri</td>\n",
       "      <td>GMDBA09838_1000000046_GL0301</td>\n",
       "      <td>7.755992e+09</td>\n",
       "      <td>ME, BPB-F,RUA, Health Certificate</td>\n",
       "      <td>2024-11-15</td>\n",
       "      <td>07:00</td>\n",
       "      <td>Home Collection</td>\n",
       "      <td>Medsol Diagnostic Centre</td>\n",
       "      <td>KARNATAKA</td>\n",
       "      <td>Bangalore South</td>\n",
       "      <td>Appointment Attended</td>\n",
       "    </tr>\n",
       "  </tbody>\n",
       "</table>\n",
       "</div>"
      ],
      "text/plain": [
       "  CorporateName      PatientName                 ApplicationId     ContactNo  \\\n",
       "0      TATA AIA    Rohit Makwana  GMDBA10030_1000000030_GL0301  9.620132e+09   \n",
       "1      TATA AIA     Divya Bhalla  GMDMU11047_1000000017_GL0301  9.591972e+09   \n",
       "2      TATA AIA  Sriteja Kolluri  GMDBA09838_1000000046_GL0301  7.755992e+09   \n",
       "\n",
       "                                         PackageName AppointmentDate ApptTime  \\\n",
       "0  ME, BPB-F,RUA, CBC, HBA1c, ECG-Exe, Health Cer...      2024-11-15    09:00   \n",
       "1  ME, BPB-F,RUA, CBC, HBA1c, ECG-Exe,Health Cert...      2024-11-15    09:30   \n",
       "2                  ME, BPB-F,RUA, Health Certificate      2024-11-15    07:00   \n",
       "\n",
       "         VisitType                 ProviderName ProviderState  \\\n",
       "0     Center Visit  TRADICINE CLINIC-LAB & SCAN     KARNATAKA   \n",
       "1     Center Visit         Preccare Diagnostics     KARNATAKA   \n",
       "2  Home Collection     Medsol Diagnostic Centre     KARNATAKA   \n",
       "\n",
       "      ProviderCity     AppointmentStatus  \n",
       "0        Bengaluru  Appointment Attended  \n",
       "1        Bengaluru  Appointment Attended  \n",
       "2  Bangalore South  Appointment Attended  "
      ]
     },
     "execution_count": 287,
     "metadata": {},
     "output_type": "execute_result"
    }
   ],
   "source": [
    "# Check the data now\n",
    "df.head(3)"
   ]
  },
  {
   "cell_type": "markdown",
   "id": "a7799b95-7ca5-426c-b37c-d4e3ee036f01",
   "metadata": {},
   "source": [
    "#### `Extract date from AppointmentDate`"
   ]
  },
  {
   "cell_type": "code",
   "execution_count": 290,
   "id": "996f762e-fbfd-4580-89bc-fdd8671cea56",
   "metadata": {},
   "outputs": [],
   "source": [
    "df[\"AppointmentDate\"] = df[\"AppointmentDate\"].dt.date"
   ]
  },
  {
   "cell_type": "code",
   "execution_count": 292,
   "id": "6faf2014-5f5d-4a60-a6a3-018eb5827f2d",
   "metadata": {},
   "outputs": [
    {
     "name": "stdout",
     "output_type": "stream",
     "text": [
      "<class 'pandas.core.frame.DataFrame'>\n",
      "RangeIndex: 7111 entries, 0 to 7110\n",
      "Data columns (total 12 columns):\n",
      " #   Column             Non-Null Count  Dtype  \n",
      "---  ------             --------------  -----  \n",
      " 0   CorporateName      7111 non-null   object \n",
      " 1   PatientName        7111 non-null   object \n",
      " 2   ApplicationId      7111 non-null   object \n",
      " 3   ContactNo          6089 non-null   float64\n",
      " 4   PackageName        7109 non-null   object \n",
      " 5   AppointmentDate    5601 non-null   object \n",
      " 6   ApptTime           5601 non-null   object \n",
      " 7   VisitType          5601 non-null   object \n",
      " 8   ProviderName       5601 non-null   object \n",
      " 9   ProviderState      5596 non-null   object \n",
      " 10  ProviderCity       5598 non-null   object \n",
      " 11  AppointmentStatus  7111 non-null   object \n",
      "dtypes: float64(1), object(11)\n",
      "memory usage: 666.8+ KB\n"
     ]
    }
   ],
   "source": [
    "df.info()"
   ]
  },
  {
   "cell_type": "markdown",
   "id": "cbdffc71-493f-4380-ab35-c5e71621675a",
   "metadata": {},
   "source": [
    "#### `Compute the next day's date`"
   ]
  },
  {
   "cell_type": "code",
   "execution_count": 294,
   "id": "c93f3db9-a9f5-4839-950f-593ae56e52d1",
   "metadata": {},
   "outputs": [],
   "source": [
    "next_day = (datetime.now() + timedelta(days=1)).date()"
   ]
  },
  {
   "cell_type": "code",
   "execution_count": 296,
   "id": "96b2800c-c642-4186-a36f-4669238fc324",
   "metadata": {},
   "outputs": [
    {
     "data": {
      "text/plain": [
       "datetime.date(2024, 11, 17)"
      ]
     },
     "execution_count": 296,
     "metadata": {},
     "output_type": "execute_result"
    }
   ],
   "source": [
    "# Check Today's Date\n",
    "datetime.now().date()"
   ]
  },
  {
   "cell_type": "code",
   "execution_count": 298,
   "id": "faaddb9e-a1ed-4335-aeb9-b201a660bb8b",
   "metadata": {},
   "outputs": [
    {
     "data": {
      "text/plain": [
       "datetime.date(2024, 11, 18)"
      ]
     },
     "execution_count": 298,
     "metadata": {},
     "output_type": "execute_result"
    }
   ],
   "source": [
    "# Check Next Date\n",
    "next_day"
   ]
  },
  {
   "cell_type": "markdown",
   "id": "3a7e9cf1-340c-4d52-8c13-098d0d3fc06a",
   "metadata": {},
   "source": [
    "#### `Filter for next day's appointments`"
   ]
  },
  {
   "cell_type": "code",
   "execution_count": 300,
   "id": "a3b3c89c-273d-43b5-9fa6-a4e181907acf",
   "metadata": {},
   "outputs": [],
   "source": [
    "df = df[df[\"AppointmentDate\"] == next_day]"
   ]
  },
  {
   "cell_type": "code",
   "execution_count": 302,
   "id": "1ab6a3d2-d236-4e8e-b13d-e09eeca85343",
   "metadata": {},
   "outputs": [
    {
     "data": {
      "text/html": [
       "<div>\n",
       "<style scoped>\n",
       "    .dataframe tbody tr th:only-of-type {\n",
       "        vertical-align: middle;\n",
       "    }\n",
       "\n",
       "    .dataframe tbody tr th {\n",
       "        vertical-align: top;\n",
       "    }\n",
       "\n",
       "    .dataframe thead th {\n",
       "        text-align: right;\n",
       "    }\n",
       "</style>\n",
       "<table border=\"1\" class=\"dataframe\">\n",
       "  <thead>\n",
       "    <tr style=\"text-align: right;\">\n",
       "      <th></th>\n",
       "      <th>CorporateName</th>\n",
       "      <th>PatientName</th>\n",
       "      <th>ApplicationId</th>\n",
       "      <th>ContactNo</th>\n",
       "      <th>PackageName</th>\n",
       "      <th>AppointmentDate</th>\n",
       "      <th>ApptTime</th>\n",
       "      <th>VisitType</th>\n",
       "      <th>ProviderName</th>\n",
       "      <th>ProviderState</th>\n",
       "      <th>ProviderCity</th>\n",
       "      <th>AppointmentStatus</th>\n",
       "    </tr>\n",
       "  </thead>\n",
       "  <tbody>\n",
       "    <tr>\n",
       "      <th>26</th>\n",
       "      <td>TATA AIA</td>\n",
       "      <td>Anand Kamath</td>\n",
       "      <td>GMDMU11047_1000000013_GL0301</td>\n",
       "      <td>8.861478e+09</td>\n",
       "      <td>ME, BPB-F,RUA, CBC, HBA1c,Health Certificate</td>\n",
       "      <td>2024-11-18</td>\n",
       "      <td>08:00</td>\n",
       "      <td>Home Collection</td>\n",
       "      <td>Medimate Diagnostics</td>\n",
       "      <td>KARNATAKA</td>\n",
       "      <td>Bangalore South</td>\n",
       "      <td>Appointment Confirmed</td>\n",
       "    </tr>\n",
       "    <tr>\n",
       "      <th>27</th>\n",
       "      <td>TATA AIA</td>\n",
       "      <td>Anand Kamath</td>\n",
       "      <td>GMDMU11047_1000000013_GL0301</td>\n",
       "      <td>8.861478e+09</td>\n",
       "      <td>ECG-Exe</td>\n",
       "      <td>2024-11-18</td>\n",
       "      <td>10:00</td>\n",
       "      <td>Center Visit</td>\n",
       "      <td>BALLOON HEALTHCARE PRIVATE LIMITED</td>\n",
       "      <td>KARNATAKA</td>\n",
       "      <td>Bengaluru</td>\n",
       "      <td>Appointment Confirmed</td>\n",
       "    </tr>\n",
       "    <tr>\n",
       "      <th>28</th>\n",
       "      <td>TATA AIA</td>\n",
       "      <td>Sabyasachi Das</td>\n",
       "      <td>GMDMU08621_1000000006_GL0301</td>\n",
       "      <td>7.042161e+09</td>\n",
       "      <td>CXR</td>\n",
       "      <td>2024-11-18</td>\n",
       "      <td>10:00</td>\n",
       "      <td>Center Visit</td>\n",
       "      <td>Zenmark Healthcare &amp; Diagnostics Center_ZENMARK</td>\n",
       "      <td>HARYANA</td>\n",
       "      <td>Gurugram</td>\n",
       "      <td>Appointment Confirmed</td>\n",
       "    </tr>\n",
       "  </tbody>\n",
       "</table>\n",
       "</div>"
      ],
      "text/plain": [
       "   CorporateName     PatientName                 ApplicationId     ContactNo  \\\n",
       "26      TATA AIA    Anand Kamath  GMDMU11047_1000000013_GL0301  8.861478e+09   \n",
       "27      TATA AIA    Anand Kamath  GMDMU11047_1000000013_GL0301  8.861478e+09   \n",
       "28      TATA AIA  Sabyasachi Das  GMDMU08621_1000000006_GL0301  7.042161e+09   \n",
       "\n",
       "                                     PackageName AppointmentDate ApptTime  \\\n",
       "26  ME, BPB-F,RUA, CBC, HBA1c,Health Certificate      2024-11-18    08:00   \n",
       "27                                       ECG-Exe      2024-11-18    10:00   \n",
       "28                                           CXR      2024-11-18    10:00   \n",
       "\n",
       "          VisitType                                     ProviderName  \\\n",
       "26  Home Collection                             Medimate Diagnostics   \n",
       "27     Center Visit               BALLOON HEALTHCARE PRIVATE LIMITED   \n",
       "28     Center Visit  Zenmark Healthcare & Diagnostics Center_ZENMARK   \n",
       "\n",
       "   ProviderState     ProviderCity      AppointmentStatus  \n",
       "26     KARNATAKA  Bangalore South  Appointment Confirmed  \n",
       "27     KARNATAKA        Bengaluru  Appointment Confirmed  \n",
       "28       HARYANA         Gurugram  Appointment Confirmed  "
      ]
     },
     "execution_count": 302,
     "metadata": {},
     "output_type": "execute_result"
    }
   ],
   "source": [
    "# Check the data now\n",
    "df.head(3)"
   ]
  },
  {
   "cell_type": "code",
   "execution_count": 304,
   "id": "5f4e67ec-2c70-4ea7-82af-620f9ada4f89",
   "metadata": {},
   "outputs": [],
   "source": [
    "# Parse and Format Appointment Date to show the date dd-mm-yyyy in exported data for simple readability\n",
    "df[\"AppointmentDate\"] = pd.to_datetime(df[\"AppointmentDate\"], dayfirst=True, errors='coerce').dt.strftime(\"%d-%m-%Y\")"
   ]
  },
  {
   "cell_type": "code",
   "execution_count": 306,
   "id": "54b5ada5-5d22-47af-8783-e6d63bce8510",
   "metadata": {},
   "outputs": [],
   "source": [
    "# Parse and Format Appointment Time\n",
    "df[\"ApptTime\"] = pd.to_datetime(df[\"ApptTime\"], format=\"%H:%M\").dt.strftime(\"%H:%M\")"
   ]
  },
  {
   "cell_type": "code",
   "execution_count": 308,
   "id": "6ae56abf-fab5-4785-a635-5fe83dbf3ea0",
   "metadata": {},
   "outputs": [],
   "source": [
    "# Sort the data by Appointment Time\n",
    "df = df.sort_values(\"ApptTime\")"
   ]
  },
  {
   "cell_type": "code",
   "execution_count": 313,
   "id": "ea2ee941-ee54-4b30-920b-6a2951091057",
   "metadata": {
    "scrolled": true
   },
   "outputs": [
    {
     "data": {
      "text/html": [
       "<div>\n",
       "<style scoped>\n",
       "    .dataframe tbody tr th:only-of-type {\n",
       "        vertical-align: middle;\n",
       "    }\n",
       "\n",
       "    .dataframe tbody tr th {\n",
       "        vertical-align: top;\n",
       "    }\n",
       "\n",
       "    .dataframe thead th {\n",
       "        text-align: right;\n",
       "    }\n",
       "</style>\n",
       "<table border=\"1\" class=\"dataframe\">\n",
       "  <thead>\n",
       "    <tr style=\"text-align: right;\">\n",
       "      <th></th>\n",
       "      <th>CorporateName</th>\n",
       "      <th>PatientName</th>\n",
       "      <th>ApplicationId</th>\n",
       "      <th>ContactNo</th>\n",
       "      <th>PackageName</th>\n",
       "      <th>AppointmentDate</th>\n",
       "      <th>ApptTime</th>\n",
       "      <th>VisitType</th>\n",
       "      <th>ProviderName</th>\n",
       "      <th>ProviderState</th>\n",
       "      <th>ProviderCity</th>\n",
       "      <th>AppointmentStatus</th>\n",
       "    </tr>\n",
       "  </thead>\n",
       "  <tbody>\n",
       "    <tr>\n",
       "      <th>26</th>\n",
       "      <td>TATA AIA</td>\n",
       "      <td>Anand Kamath</td>\n",
       "      <td>GMDMU11047_1000000013_GL0301</td>\n",
       "      <td>8.861478e+09</td>\n",
       "      <td>ME, BPB-F,RUA, CBC, HBA1c,Health Certificate</td>\n",
       "      <td>18-11-2024</td>\n",
       "      <td>08:00</td>\n",
       "      <td>Home Collection</td>\n",
       "      <td>Medimate Diagnostics</td>\n",
       "      <td>KARNATAKA</td>\n",
       "      <td>Bangalore South</td>\n",
       "      <td>Appointment Confirmed</td>\n",
       "    </tr>\n",
       "    <tr>\n",
       "      <th>1523</th>\n",
       "      <td>TATA AIA</td>\n",
       "      <td>Arjun Shanker Bhartia</td>\n",
       "      <td>GMDDE08121_1000013785_GL0301</td>\n",
       "      <td>NaN</td>\n",
       "      <td>MER,RUA,BPB-F,CBC,HBA1C,ECG-Exe,Health Certifi...</td>\n",
       "      <td>18-11-2024</td>\n",
       "      <td>08:00</td>\n",
       "      <td>Home Collection</td>\n",
       "      <td>Visit Health Mobile TMT VAN - Delhi NCR</td>\n",
       "      <td>DELHI</td>\n",
       "      <td>New Delhi</td>\n",
       "      <td>Order sent to partner</td>\n",
       "    </tr>\n",
       "    <tr>\n",
       "      <th>35</th>\n",
       "      <td>TATA AIA</td>\n",
       "      <td>SAMATBHAI LAKHMANBHAI BELA</td>\n",
       "      <td>U180912296</td>\n",
       "      <td>9.974140e+09</td>\n",
       "      <td>MER,RUA,Microscopic Urine Analysis,BPB-F,CBC,H...</td>\n",
       "      <td>18-11-2024</td>\n",
       "      <td>09:00</td>\n",
       "      <td>Center Visit</td>\n",
       "      <td>Sankalp Laboratory</td>\n",
       "      <td>GUJARAT</td>\n",
       "      <td>Khambhalia</td>\n",
       "      <td>Appointment Confirmed</td>\n",
       "    </tr>\n",
       "  </tbody>\n",
       "</table>\n",
       "</div>"
      ],
      "text/plain": [
       "     CorporateName                 PatientName                 ApplicationId  \\\n",
       "26        TATA AIA                Anand Kamath  GMDMU11047_1000000013_GL0301   \n",
       "1523      TATA AIA       Arjun Shanker Bhartia  GMDDE08121_1000013785_GL0301   \n",
       "35        TATA AIA  SAMATBHAI LAKHMANBHAI BELA                    U180912296   \n",
       "\n",
       "         ContactNo                                        PackageName  \\\n",
       "26    8.861478e+09       ME, BPB-F,RUA, CBC, HBA1c,Health Certificate   \n",
       "1523           NaN  MER,RUA,BPB-F,CBC,HBA1C,ECG-Exe,Health Certifi...   \n",
       "35    9.974140e+09  MER,RUA,Microscopic Urine Analysis,BPB-F,CBC,H...   \n",
       "\n",
       "     AppointmentDate ApptTime        VisitType  \\\n",
       "26        18-11-2024    08:00  Home Collection   \n",
       "1523      18-11-2024    08:00  Home Collection   \n",
       "35        18-11-2024    09:00     Center Visit   \n",
       "\n",
       "                                 ProviderName ProviderState     ProviderCity  \\\n",
       "26                       Medimate Diagnostics     KARNATAKA  Bangalore South   \n",
       "1523  Visit Health Mobile TMT VAN - Delhi NCR         DELHI        New Delhi   \n",
       "35                         Sankalp Laboratory       GUJARAT       Khambhalia   \n",
       "\n",
       "          AppointmentStatus  \n",
       "26    Appointment Confirmed  \n",
       "1523  Order sent to partner  \n",
       "35    Appointment Confirmed  "
      ]
     },
     "execution_count": 313,
     "metadata": {},
     "output_type": "execute_result"
    }
   ],
   "source": [
    "df.head(3)"
   ]
  },
  {
   "cell_type": "markdown",
   "id": "1763b5ca-ebad-4740-ad4a-0fb156bbcfcd",
   "metadata": {},
   "source": [
    "#### `Export to Excel`"
   ]
  },
  {
   "cell_type": "code",
   "execution_count": 322,
   "id": "1476b939-7b97-4064-908a-6a40f9cb3428",
   "metadata": {},
   "outputs": [],
   "source": [
    "df.to_excel(\"Tomorrow's Appointment.xlsx\", index=False)"
   ]
  },
  {
   "cell_type": "markdown",
   "id": "037a8b7e-6285-4f75-add2-bb2a74f05eae",
   "metadata": {},
   "source": [
    "# `Now Let's Create the Function Appointment for Account Managers to Automate the process`"
   ]
  },
  {
   "cell_type": "code",
   "execution_count": 329,
   "id": "af195b5a-e514-4b55-a26f-ce74405552e9",
   "metadata": {},
   "outputs": [],
   "source": [
    "import pandas as pd\n",
    "from datetime import datetime, timedelta\n",
    "\n",
    "def process_tomorrows_appointments():\n",
    "    \"\"\"\n",
    "    Filters appointments for the next day and exports them to an Excel file.\n",
    "\n",
    "    This function:\n",
    "    1. Reads a CSV file with appointment data.\n",
    "    2. Filters rows where the `AppointmentDate` matches the next day's date.\n",
    "    3. Formats the date and time columns for better readability.\n",
    "    4. Exports the filtered data to an Excel file.\n",
    "\n",
    "    Input:\n",
    "        Prompts the user to input the source file path and the destination file path.\n",
    "    Output:\n",
    "        Saves the filtered and sorted appointments to an Excel file.\n",
    "    \"\"\"\n",
    "\n",
    "    # Prompt user for file paths\n",
    "    source = input(\"Enter the file path of the source data (CSV): \").strip()\n",
    "    destination = input(\"Enter the file path for the output Excel file: \").strip()\n",
    "\n",
    "    # Define columns to read\n",
    "    columns = [\n",
    "        \"CorporateName\", \"PatientName\", \"ApplicationId\", \"ContactNo\",\n",
    "        \"PackageName\", \"AppointmentDate\", \"ApptTime\", \"VisitType\",\n",
    "        \"ProviderName\", \"ProviderState\", \"ProviderCity\", \"AppointmentStatus\"\n",
    "    ]\n",
    "\n",
    "    try:\n",
    "        # Load specified columns from the source CSV file\n",
    "        df = pd.read_csv(source, usecols=columns)\n",
    "\n",
    "        # Convert `AppointmentDate` to datetime and filter for the next day's appointments\n",
    "        df[\"AppointmentDate\"] = pd.to_datetime(df[\"AppointmentDate\"], dayfirst=True, errors='coerce')\n",
    "        next_day = (datetime.now() + timedelta(days=1)).date()\n",
    "        df = df[df[\"AppointmentDate\"].dt.date == next_day]\n",
    "\n",
    "        # Reformat `AppointmentDate` to \"dd-mm-yyyy\" for clarity\n",
    "        df[\"AppointmentDate\"] = df[\"AppointmentDate\"].dt.strftime(\"%d-%m-%Y\")\n",
    "\n",
    "        # Format `ApptTime` to \"HH:MM\" for consistency\n",
    "        df[\"ApptTime\"] = pd.to_datetime(df[\"ApptTime\"], format=\"%H:%M\", errors='coerce').dt.strftime(\"%H:%M\")\n",
    "\n",
    "        # Sort the appointments by time\n",
    "        df = df.sort_values(\"ApptTime\")\n",
    "\n",
    "        # Export to Excel\n",
    "        df.to_excel(destination, index=False)\n",
    "        print(f\"Successfully saved tomorrow's appointments to: {destination}\")\n",
    "\n",
    "    except FileNotFoundError:\n",
    "        print(\"Error: The source file was not found. Please check the file path.\")\n",
    "    except pd.errors.EmptyDataError:\n",
    "        print(\"Error: The source file is empty or invalid.\")\n",
    "    except Exception as e:\n",
    "        print(f\"An unexpected error occurred: {e}\")\n"
   ]
  },
  {
   "cell_type": "code",
   "execution_count": 331,
   "id": "10ee787c-ce9a-4efd-9c38-cc5943b3d1cb",
   "metadata": {},
   "outputs": [
    {
     "name": "stdin",
     "output_type": "stream",
     "text": [
      "Enter the file path of the source data (CSV):  mis.csv\n",
      "Enter the file path for the output Excel file:  test.xlsx\n"
     ]
    },
    {
     "name": "stdout",
     "output_type": "stream",
     "text": [
      "Successfully saved tomorrow's appointments to: test.xlsx\n"
     ]
    }
   ],
   "source": [
    "process_tomorrows_appointments()"
   ]
  }
 ],
 "metadata": {
  "kernelspec": {
   "display_name": "Python 3 (ipykernel)",
   "language": "python",
   "name": "python3"
  },
  "language_info": {
   "codemirror_mode": {
    "name": "ipython",
    "version": 3
   },
   "file_extension": ".py",
   "mimetype": "text/x-python",
   "name": "python",
   "nbconvert_exporter": "python",
   "pygments_lexer": "ipython3",
   "version": "3.12.4"
  }
 },
 "nbformat": 4,
 "nbformat_minor": 5
}
