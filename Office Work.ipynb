{
 "cells": [
  {
   "cell_type": "code",
   "execution_count": 1,
   "id": "78622eb9-59fc-4d3e-aeac-ded85feeb660",
   "metadata": {},
   "outputs": [],
   "source": [
    "def Appointment(source,destination) :\n",
    "    import pandas as pd\n",
    "    raw_data=pd.read_csv(source)\n",
    "    raw_data=raw_data[[\"CorporateName\",\"PatientName\",\"ApplicationId\",\"ContactNo\",\"PackageName\",\"AppointmentDate\",\"ApptTime\",\"VisitType\",\"ProviderName\",\"ProviderState\",\"ProviderCity\",\"AppointmentStatus\"]]\n",
    "    import datetime as dt\n",
    "    raw_data[\"ApptTime\"]=pd.to_datetime(raw_data[\"ApptTime\"],format=\"%H:%M\")\n",
    "    raw_data[\"ApptTime\"]=raw_data[\"ApptTime\"].dt.strftime(\"%H:%M\")\n",
    "    raw_data=raw_data.sort_values(\"ApptTime\")\n",
    "    raw_data.to_excel(destination,index=False)\n",
    "    print(\"Enjoy Bro\")"
   ]
  },
  {
   "cell_type": "code",
   "execution_count": 2,
   "id": "a4e5ef5a-53af-48cb-81b2-e66b23aabed1",
   "metadata": {},
   "outputs": [],
   "source": [
    "A=\"C:/Users/HP/Downloads/mis-data-1726490092674.csv\"\n",
    "B=\"C:/Users/HP/Downloads/dt.xlsx\""
   ]
  },
  {
   "cell_type": "code",
   "execution_count": 3,
   "id": "0c455162-821d-4ecd-b96f-525983284bdc",
   "metadata": {},
   "outputs": [
    {
     "name": "stdout",
     "output_type": "stream",
     "text": [
      "Enjoy Bro\n"
     ]
    }
   ],
   "source": [
    "Appointment(A,B)"
   ]
  },
  {
   "cell_type": "code",
   "execution_count": 7,
   "id": "71cc29ef-df5c-49d5-abf8-e6335da13b53",
   "metadata": {},
   "outputs": [],
   "source": [
    "def wip(source,destination):\n",
    "    import pandas as pd\n",
    "    import datetime as dt\n",
    "    df_raw=pd.read_csv(source,usecols=[\"RequestDate\", \"PatientName\", \"ApplicationId\", \"AppointmentStatus\", \"LastCallStatus\", \"NumberofAttempts\", \"DND\"])\n",
    "    df=df_raw\n",
    "    df[\"RequestDate\"]=pd.to_datetime(df[\"RequestDate\"],format=\"%d/%m/%Y\")\n",
    "    previous_financial_years_data_index=df[df[\"RequestDate\"]<=\"31/03/2024\"].index\n",
    "    df=df.drop(previous_financial_years_data_index)\n",
    "    completed_cases_index=df[df[\"AppointmentStatus\"].isin([\"QC Approved\", \"QC APPROVED\", \"Reports Uploaded\", \"Appointment Attended\", \"QC Rejected\", \"Sent For Interpretation\"])].index\n",
    "    df=df.drop(completed_cases_index)\n",
    "    df.loc[df[\"NumberofAttempts\"]>30,\"Status\"]=\"Max Attempts\"\n",
    "    dnd_cases_index=df[(df[\"Status\"].isna()) & (df[\"DND\"]==\"Yes\")].index\n",
    "    df.loc[dnd_cases_index,\"Status\"]=\"DND\"\n",
    "    appointment_status_cases_index=df[(df[\"AppointmentStatus\"].isin([\"Cancelled\", \"Cancelled by insurer\", \"Appointment Confirmed\", \"Order sent to partner\"])) & (df[\"Status\"].isna())].index \n",
    "    df.loc[appointment_status_cases_index,\"Status\"] = df.loc[appointment_status_cases_index, \"AppointmentStatus\"]\n",
    "    LastCallStatus_index=df[df[\"Status\"].isna()].index \n",
    "    df.loc[LastCallStatus_index,\"Status\"]=df.loc[LastCallStatus_index,\"LastCallStatus\"]\n",
    "    df[\"Status\"]=df[\"Status\"].fillna(\"Non Contactable\")\n",
    "    Working_On_It_index=df[df[\"Status\"].isin([\"Appointment Request Received\", \"Direct Medical\", \"Location Constraint\", \"Medical Done Report Awaited\", \"Reminder\"])].index\n",
    "    df.loc[Working_On_It_index,\"Status\"]=\"Working On It\"\n",
    "    workable_index=df[df[\"Status\"].isin([\"Appointment Confirmed\", \"Callback\", \"Non Contactable\", \"Order sent to partner\", \"Working On It\"])].index\n",
    "    df.loc[workable_index,\"Type\"]=\"Workable\"\n",
    "    df.loc[df[df[\"Type\"].isna()].index,\"Type\"]=\"Non_Workable\"\n",
    "    df[\"RequestDate\"]=df[\"RequestDate\"].dt.strftime(\"%d/%m/%Y\")\n",
    "    df_status=df[\"Status\"].value_counts()\n",
    "    writer=pd.ExcelWriter(destination)\n",
    "    df_status.to_excel(writer, sheet_name=\"Report\")\n",
    "    df_raw.to_excel(writer, sheet_name=\"Raw_Data\",index=False)  \n",
    "    df.to_excel(writer, sheet_name=\"Cleaned_Data\",index=False)\n",
    "    writer.close()\n",
    "    print(\"Chalo aage ka apna dekh lo Bro\")\n",
    "    "
   ]
  },
  {
   "cell_type": "code",
   "execution_count": 8,
   "id": "6826824b-3f91-4fb9-9946-88e1c2a7c3ea",
   "metadata": {},
   "outputs": [],
   "source": [
    "C=\"C:/Users/HP/Downloads/mis-data-1725455828946.csv\"\n",
    "D=\"C:/Users/HP/Downloads/wip.xlsx\""
   ]
  },
  {
   "cell_type": "code",
   "execution_count": 9,
   "id": "0f0a6d85-761f-47ff-83e1-6a7bcfa10a55",
   "metadata": {},
   "outputs": [
    {
     "name": "stdout",
     "output_type": "stream",
     "text": [
      "Chalo aage ka apna dekh lo Bro\n"
     ]
    }
   ],
   "source": [
    "wip(C,D)"
   ]
  },
  {
   "cell_type": "code",
   "execution_count": 10,
   "id": "3c6c8032-d231-4f17-a496-7c608abb8470",
   "metadata": {},
   "outputs": [],
   "source": [
    "def report(source,destination):\n",
    "    import pandas as pd\n",
    "    import datetime as dt\n",
    "    import numpy as np\n",
    "    raw=pd.read_csv(source,usecols=[\"RequestDate\", \"PatientName\", \"ApplicationId\",\"ReportUploaded\", \"AppointmentStatus\", \"LastCallStatus\", \"AppointmentDate\", \"QcApprovedDate\", \"NumberofAttempts\", \"DND\"])\n",
    "    group_case_index=raw[((raw[\"ApplicationId\"].str.startswith(\"G\"))&(raw[\"ApplicationId\"].str.endswith(\"01\")))|((raw[\"ApplicationId\"].str.startswith(\" G\"))&(raw[\"ApplicationId\"].str.endswith(\"01\")))].index\n",
    "    raw=raw.loc[group_case_index]\n",
    "    raw[\"RequestDate\"]=pd.to_datetime(raw[\"RequestDate\"],format=\"%d/%m/%Y\")\n",
    "    raw[\"AppointmentDate\"]=pd.to_datetime(raw[\"AppointmentDate\"],format=\"%d/%m/%Y\")\n",
    "    raw[\"QcApprovedDate\"]=pd.to_datetime(raw[\"QcApprovedDate\"],format=\"%d/%m/%Y\")\n",
    "    previous_financial_years_data_index=raw[raw[\"RequestDate\"]<=\"31/03/2024\"].index\n",
    "    raw=raw.drop(previous_financial_years_data_index)\n",
    "    completed_cases_index=raw[raw[\"AppointmentStatus\"].isin([\"QC Approved\", \"QC APPROVED\", \"Reports Uploaded\", \"Appointment Attended\", \"QC Rejected\", \"Sent For Interpretation\"])].index\n",
    "    converted=raw.loc[completed_cases_index,[\"RequestDate\", \"PatientName\", \"ApplicationId\",\"AppointmentDate\",\"QcApprovedDate\",\"ReportUploaded\", \"AppointmentStatus\"]]\n",
    "    converted[\"Appointment_TAT\"]=(converted[\"AppointmentDate\"]-converted[\"RequestDate\"]).dt.days.astype(\"string\")\n",
    "    converted[\"QC_TAT\"]=(converted[\"QcApprovedDate\"]-converted[\"AppointmentDate\"]).dt.days\n",
    "    pd.to_numeric(converted[\"QC_TAT\"],errors=\"coerce\")\n",
    "    for index in converted.index:\n",
    "        if converted.loc[index,\"Appointment_TAT\"]==\"0\":\n",
    "            converted.loc[index,\"Appointment_TAT\"]=\"T 0\"\n",
    "        elif converted.loc[index,\"Appointment_TAT\"]==\"1\":\n",
    "            converted.loc[index,\"Appointment_TAT\"]=\"T + 1\"\n",
    "        elif converted.loc[index,\"Appointment_TAT\"]==\"2\":\n",
    "            converted.loc[index,\"Appointment_TAT\"]=\"T + 2\"\n",
    "        elif converted.loc[index,\"Appointment_TAT\"]==\"3\":\n",
    "            converted.loc[index,\"Appointment_TAT\"]=\"T + 3\"\n",
    "        elif converted.loc[index,\"Appointment_TAT\"]==\"4\":\n",
    "            converted.loc[index,\"Appointment_TAT\"]=\"T + 4\"\n",
    "        else :\n",
    "            converted.loc[index,\"Appointment_TAT\"]= \"> T + 4\"\n",
    "    pending_cases_index=raw[~(raw[\"AppointmentStatus\"].isin([\"QC Approved\", \"QC APPROVED\", \"Reports Uploaded\", \"Appointment Attended\", \"QC Rejected\", \"Sent For Interpretation\"]))].index\n",
    "    pending=raw.loc[pending_cases_index,[\"RequestDate\", \"PatientName\", \"ApplicationId\", \"AppointmentStatus\", \"LastCallStatus\", \"NumberofAttempts\", \"DND\"]]\n",
    "    pending.loc[pending[\"NumberofAttempts\"]>30,\"Status\"]=\"Max Attempts\"\n",
    "    dnd_cases_index=pending[(pending[\"Status\"].isna()) & (pending[\"DND\"]==\"Yes\")].index\n",
    "    pending.loc[dnd_cases_index,\"Status\"]=\"DND\"\n",
    "    appointment_status_cases_index=pending[(pending[\"AppointmentStatus\"].isin([\"Cancelled\", \"Cancelled by insurer\", \"Appointment Confirmed\", \"Order sent to partner\"])) & (pending[\"Status\"].isna())].index\n",
    "    pending.loc[appointment_status_cases_index,\"Status\"] = pending.loc[appointment_status_cases_index, \"AppointmentStatus\"]\n",
    "    LastCallStatus_index=pending[pending[\"Status\"].isna()].index\n",
    "    pending.loc[LastCallStatus_index,\"Status\"]=pending.loc[LastCallStatus_index,\"LastCallStatus\"]\n",
    "    pending[\"Status\"]=pending[\"Status\"].fillna(\"Non Contactable\")\n",
    "    Working_On_It_index=pending[pending[\"Status\"].isin([\"Appointment Request Received\", \"Direct Medical\", \"Location Constraint\", \"Medical Done Report Awaited\", \"Reminder\"])].index\n",
    "    pending.loc[Working_On_It_index,\"Status\"]=\"Working On It\"\n",
    "    workable_index=pending[pending[\"Status\"].isin([\"Appointment Confirmed\", \"Callback\", \"Non Contactable\", \"Order sent to partner\", \"Working On It\"])].index\n",
    "    pending.loc[workable_index,\"Type\"]=\"Workable\"\n",
    "    pending.loc[pending[pending[\"Type\"].isna()].index,\"Type\"]=\"Non_Workable\"\n",
    "    Non_Workable_Data=pending.loc[pending[\"Type\"]==\"Non_Workable\"]\n",
    "    raw[\"AppointmentDate\"]=raw[\"AppointmentDate\"].dt.strftime(\"%d/%m/%Y\")\n",
    "    raw[\"QcApprovedDate\"]=raw[\"QcApprovedDate\"].dt.strftime(\"%d/%m/%Y\")\n",
    "    converted[\"AppointmentDate\"]=converted[\"AppointmentDate\"].dt.strftime(\"%d/%m/%Y\")\n",
    "    converted[\"QcApprovedDate\"]=converted[\"QcApprovedDate\"].dt.strftime(\"%d/%m/%Y\")\n",
    "    writer=pd.ExcelWriter(destination)\n",
    "    raw.to_excel(writer, sheet_name=\"raw\",index=False)\n",
    "    converted.to_excel(writer, sheet_name=\"converted\",index=False)\n",
    "    pending.to_excel(writer, sheet_name=\"pending\",index=False)\n",
    "    Non_Workable_Data.to_excel(writer, sheet_name=\"Non_Workable_Data\",index=False)\n",
    "    writer.close()\n",
    "    print(\"Bas yahi tak ab kuch to kar lo\")"
   ]
  },
  {
   "cell_type": "code",
   "execution_count": 11,
   "id": "2e50a0ee-96a9-4312-a7ab-866625014a64",
   "metadata": {},
   "outputs": [],
   "source": [
    "E=\"C:/Users/HP/Downloads/mis-data-1725032970062.csv\"\n",
    "F=\"C:/Users/HP/Downloads/report.xlsx\""
   ]
  },
  {
   "cell_type": "code",
   "execution_count": 12,
   "id": "5ad2f549-d3d4-444d-8b5f-3487ca86be75",
   "metadata": {},
   "outputs": [
    {
     "name": "stdout",
     "output_type": "stream",
     "text": [
      "Bas yahi tak ab kuch to kar lo\n"
     ]
    }
   ],
   "source": [
    "report(E,F)"
   ]
  }
 ],
 "metadata": {
  "kernelspec": {
   "display_name": "Python 3 (ipykernel)",
   "language": "python",
   "name": "python3"
  },
  "language_info": {
   "codemirror_mode": {
    "name": "ipython",
    "version": 3
   },
   "file_extension": ".py",
   "mimetype": "text/x-python",
   "name": "python",
   "nbconvert_exporter": "python",
   "pygments_lexer": "ipython3",
   "version": "3.12.4"
  }
 },
 "nbformat": 4,
 "nbformat_minor": 5
}
